{
 "cells": [
  {
   "cell_type": "code",
   "execution_count": 1,
   "id": "756012d9",
   "metadata": {},
   "outputs": [],
   "source": [
    "import pandas as pd"
   ]
  },
  {
   "cell_type": "code",
   "execution_count": 2,
   "id": "ff24d016",
   "metadata": {},
   "outputs": [],
   "source": [
    "result_csv_path = \"../fpdar/freshqa/gpt-3.5-turbo_fpdar.csv\"\n",
    "\n",
    "df = pd.read_csv(result_csv_path)\n",
    "\n",
    "# print(df.info())"
   ]
  },
  {
   "cell_type": "code",
   "execution_count": 3,
   "id": "b5038b05",
   "metadata": {},
   "outputs": [],
   "source": [
    "threshold = 0.7"
   ]
  },
  {
   "cell_type": "code",
   "execution_count": 4,
   "id": "f18f78e1",
   "metadata": {},
   "outputs": [],
   "source": [
    "# Filter rows where false_premise is True i.e there is a false premise\n",
    "try:\n",
    "    fp_filtered_df = df[df['premise']]\n",
    "except KeyError:\n",
    "    fp_filtered_df = df[df['all_assumptions_valid'] == 'has_invalid']\n",
    "\n",
    "# Calculate the number of instances with false premises where false premise was detected and it was correct\n",
    "fp_detection_accuracy = fp_filtered_df[(fp_filtered_df['same_question'] <= threshold) & (\n",
    "    fp_filtered_df['final_accuracy'] == 'Correct')].shape[0]"
   ]
  },
  {
   "cell_type": "code",
   "execution_count": 5,
   "id": "a6780472",
   "metadata": {},
   "outputs": [],
   "source": [
    "# Filter rows where false_premise is True i.e there is a false premise\n",
    "try:\n",
    "    tp_filtered_df = df[~df['premise']]\n",
    "except KeyError:\n",
    "    tp_filtered_df = df[df['all_assumptions_valid'] == 'all_valid']\n",
    "\n",
    "# Calculate the number of instances with true premises where false premise was detected and it was correct\n",
    "tp_detection_accuracy = tp_filtered_df[(tp_filtered_df['same_question'] <= threshold) & (\n",
    "    tp_filtered_df['final_accuracy'] == 'Correct')].shape[0]"
   ]
  },
  {
   "cell_type": "code",
   "execution_count": 6,
   "id": "217c2267",
   "metadata": {},
   "outputs": [],
   "source": [
    "total_detection_accuracy = fp_detection_accuracy + tp_detection_accuracy"
   ]
  },
  {
   "cell_type": "code",
   "execution_count": 7,
   "id": "f58f386b",
   "metadata": {},
   "outputs": [
    {
     "name": "stdout",
     "output_type": "stream",
     "text": [
      "Total FP Detected: 44, Correct FP Detected: 10, Correct TP Detected: 34\n"
     ]
    }
   ],
   "source": [
    "# print raw results for total premises, fp and tp detected for stage 3\n",
    "print(\"Total FP Detected: {}, Correct FP Detected: {}, Correct TP Detected: {}\".format(\n",
    "    total_detection_accuracy,fp_detection_accuracy,tp_detection_accuracy))"
   ]
  },
  {
   "cell_type": "code",
   "execution_count": 8,
   "id": "c6280b23",
   "metadata": {},
   "outputs": [],
   "source": [
    "# total number of instances in each category\n",
    "total_fp = fp_filtered_df[(fp_filtered_df['same_question'] <= threshold)].shape[0]\n",
    "total_tp = tp_filtered_df[(tp_filtered_df['same_question'] <= threshold)].shape[0]\n",
    "total_no = total_fp + total_tp"
   ]
  },
  {
   "cell_type": "code",
   "execution_count": 9,
   "id": "fc30aea9",
   "metadata": {},
   "outputs": [],
   "source": [
    "# values as percentage\n",
    "total_detection_accuracy_pr = round(total_detection_accuracy / total_no * 100, 1)\n",
    "fp_detection_accuracy_pr = round(fp_detection_accuracy / total_fp * 100, 1)\n",
    "tp_detection_accuracy_pr = round(tp_detection_accuracy / total_tp * 100, 1)"
   ]
  },
  {
   "cell_type": "code",
   "execution_count": 10,
   "id": "479ad0a2",
   "metadata": {},
   "outputs": [
    {
     "name": "stdout",
     "output_type": "stream",
     "text": [
      "Total % FP Detected: 65.7, Correct FP Detected %: 50.0, Correct TP Detected %: 72.3\n"
     ]
    }
   ],
   "source": [
    "# print percentage for total premises, fp and tp detected for stage 3\n",
    "print(\"Total % FP Detected: {}, Correct FP Detected %: {}, Correct TP Detected %: {}\".format(\n",
    "  total_detection_accuracy_pr,fp_detection_accuracy_pr,tp_detection_accuracy_pr))"
   ]
  },
  {
   "cell_type": "code",
   "execution_count": null,
   "id": "64d8f904",
   "metadata": {},
   "outputs": [],
   "source": []
  }
 ],
 "metadata": {
  "kernelspec": {
   "display_name": "Python 3 (ipykernel)",
   "language": "python",
   "name": "python3"
  },
  "language_info": {
   "codemirror_mode": {
    "name": "ipython",
    "version": 3
   },
   "file_extension": ".py",
   "mimetype": "text/x-python",
   "name": "python",
   "nbconvert_exporter": "python",
   "pygments_lexer": "ipython3",
   "version": "3.9.15"
  }
 },
 "nbformat": 4,
 "nbformat_minor": 5
}
