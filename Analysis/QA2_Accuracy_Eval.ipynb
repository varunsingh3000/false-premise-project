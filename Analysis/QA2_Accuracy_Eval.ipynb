{
 "cells": [
  {
   "cell_type": "code",
   "execution_count": 1,
   "id": "9a1efacd",
   "metadata": {},
   "outputs": [],
   "source": [
    "import pandas as pd"
   ]
  },
  {
   "cell_type": "code",
   "execution_count": 3,
   "id": "e2ab517e",
   "metadata": {},
   "outputs": [],
   "source": [
    "result_csv_path = \"../fpdar/qa2/gpt-3.5-turbo_fpdar.csv\"\n",
    "\n",
    "df = pd.read_csv(result_csv_path)\n",
    "\n",
    "# print(df.info())"
   ]
  },
  {
   "cell_type": "code",
   "execution_count": 4,
   "id": "f5745e59",
   "metadata": {},
   "outputs": [],
   "source": [
    "# total number of instances in each category\n",
    "total_no = 570\n",
    "total_fp = 285\n",
    "total_tp = 285"
   ]
  },
  {
   "cell_type": "code",
   "execution_count": 5,
   "id": "d1d255c9",
   "metadata": {},
   "outputs": [],
   "source": [
    "total_accuracy = df[df['final_accuracy'] == 'Correct'].shape[0]"
   ]
  },
  {
   "cell_type": "code",
   "execution_count": 7,
   "id": "9fe43c89",
   "metadata": {},
   "outputs": [],
   "source": [
    "# Filter rows where all_assumptions_valid is has_invalid i.e there is a false premise\n",
    "fp_filtered_df = df[df['all_assumptions_valid'] == 'has_invalid']\n",
    "\n",
    "# Calculate accuracy when false_premise is present\n",
    "accuracy_fp = fp_filtered_df[fp_filtered_df['final_accuracy'] == 'Correct'].shape[0]"
   ]
  },
  {
   "cell_type": "code",
   "execution_count": 8,
   "id": "d42e0347",
   "metadata": {},
   "outputs": [],
   "source": [
    "# Filter rows where all_assumptions_valid is all_valid i.e there is a true premise\n",
    "tp_filtered_df = df[df['all_assumptions_valid'] == 'all_valid']\n",
    "\n",
    "# Calculate accuracy when false_premise is False\n",
    "accuracy_tp = tp_filtered_df[tp_filtered_df['final_accuracy'] == 'Correct'].shape[0]"
   ]
  },
  {
   "cell_type": "code",
   "execution_count": 9,
   "id": "2b657de6",
   "metadata": {},
   "outputs": [
    {
     "name": "stdout",
     "output_type": "stream",
     "text": [
      "Total Correct: 430, FP Correct: 193, TP Correct: 237\n"
     ]
    }
   ],
   "source": [
    "# print raw results for overall, fp and tp accuracy\n",
    "\n",
    "print(\"Total Correct: {}, FP Correct: {}, TP Correct: {}\".format(total_accuracy,\n",
    "                                                accuracy_fp,accuracy_tp))"
   ]
  },
  {
   "cell_type": "code",
   "execution_count": 10,
   "id": "ed792dbe",
   "metadata": {},
   "outputs": [],
   "source": [
    "# Accuracy values as percentage\n",
    "total_accuracy_pr = round(total_accuracy / total_no * 100, 1)\n",
    "accuracy_fp_pr = round(accuracy_fp / total_fp * 100, 1)\n",
    "accuracy_tp_pr = round(accuracy_tp / total_tp * 100, 1)"
   ]
  },
  {
   "cell_type": "code",
   "execution_count": 11,
   "id": "9f262703",
   "metadata": {},
   "outputs": [
    {
     "name": "stdout",
     "output_type": "stream",
     "text": [
      "Total Accuracy (%): 75.4\n",
      "FP Accuracy (%): 67.7\n",
      "TP Accuracy (%): 83.2\n"
     ]
    }
   ],
   "source": [
    "# Print the rounded values\n",
    "print(\"Total Accuracy (%):\", total_accuracy_pr)\n",
    "print(\"FP Accuracy (%):\", accuracy_fp_pr)\n",
    "print(\"TP Accuracy (%):\", accuracy_tp_pr)"
   ]
  },
  {
   "cell_type": "code",
   "execution_count": null,
   "id": "86825a65",
   "metadata": {},
   "outputs": [],
   "source": []
  }
 ],
 "metadata": {
  "kernelspec": {
   "display_name": "Python 3 (ipykernel)",
   "language": "python",
   "name": "python3"
  },
  "language_info": {
   "codemirror_mode": {
    "name": "ipython",
    "version": 3
   },
   "file_extension": ".py",
   "mimetype": "text/x-python",
   "name": "python",
   "nbconvert_exporter": "python",
   "pygments_lexer": "ipython3",
   "version": "3.9.15"
  }
 },
 "nbformat": 4,
 "nbformat_minor": 5
}
