{
 "cells": [
  {
   "cell_type": "code",
   "execution_count": 1,
   "id": "80015aa8",
   "metadata": {},
   "outputs": [],
   "source": [
    "import pandas as pd"
   ]
  },
  {
   "cell_type": "code",
   "execution_count": 3,
   "id": "ee288784",
   "metadata": {},
   "outputs": [],
   "source": [
    "result_csv_path = \"../fpdar/freshqa/gpt-3.5-turbo_fpdar.csv\"\n",
    "\n",
    "df = pd.read_csv(result_csv_path)\n",
    "\n",
    "# print(df.info())"
   ]
  },
  {
   "cell_type": "code",
   "execution_count": 4,
   "id": "c0d5f401",
   "metadata": {},
   "outputs": [],
   "source": [
    "# total number of instances in each category\n",
    "total_no = 500\n",
    "total_fp = 124\n",
    "total_tp = 376"
   ]
  },
  {
   "cell_type": "code",
   "execution_count": 5,
   "id": "387a89ee",
   "metadata": {},
   "outputs": [],
   "source": [
    "threshold = 0.7"
   ]
  },
  {
   "cell_type": "code",
   "execution_count": 6,
   "id": "6b7b9cf6",
   "metadata": {},
   "outputs": [],
   "source": [
    "# Filter rows where false_premise is True i.e there is a false premise\n",
    "try:\n",
    "    fp_filtered_df = df[df['premise']]\n",
    "except KeyError:\n",
    "    fp_filtered_df = df[df['all_assumptions_valid'] == 'has_invalid']\n",
    "\n",
    "# Calculate the number of instances with false premises where false premise was detected\n",
    "fp_detection = fp_filtered_df[(fp_filtered_df['same_question'] <= threshold)].shape[0]"
   ]
  },
  {
   "cell_type": "code",
   "execution_count": 7,
   "id": "614bd62a",
   "metadata": {},
   "outputs": [],
   "source": [
    "# Filter rows where false_premise is False i.e there is a true premise\n",
    "try:\n",
    "    tp_filtered_df = df[~df['premise']]\n",
    "except KeyError:\n",
    "    tp_filtered_df = df[df['all_assumptions_valid'] == 'all_valid']\n",
    "\n",
    "# Calculate the number of instances with true premises where true premise was detected\n",
    "tp_detection = tp_filtered_df[(tp_filtered_df['same_question'] > threshold)].shape[0]"
   ]
  },
  {
   "cell_type": "code",
   "execution_count": 8,
   "id": "b9f0f8fd",
   "metadata": {},
   "outputs": [],
   "source": [
    "total_detection = fp_detection + tp_detection"
   ]
  },
  {
   "cell_type": "code",
   "execution_count": 9,
   "id": "796921aa",
   "metadata": {},
   "outputs": [
    {
     "name": "stdout",
     "output_type": "stream",
     "text": [
      "Total Detected: 349, FP Detected: 20, TP Detected: 329\n"
     ]
    }
   ],
   "source": [
    "# print raw results for total premises, fp and tp detected for stage 2\n",
    "print(\"Total Detected: {}, FP Detected: {}, TP Detected: {}\".format(\n",
    "    total_detection,fp_detection,tp_detection))"
   ]
  },
  {
   "cell_type": "code",
   "execution_count": 10,
   "id": "8bcb9b8e",
   "metadata": {},
   "outputs": [],
   "source": [
    "# values as percentage\n",
    "total_detection_pr = round(total_detection / total_no * 100, 1)\n",
    "fp_detection_pr = round(fp_detection / total_fp * 100, 1)\n",
    "tp_detection_pr = round(tp_detection / total_tp * 100, 1)"
   ]
  },
  {
   "cell_type": "code",
   "execution_count": 11,
   "id": "6a7c3105",
   "metadata": {},
   "outputs": [
    {
     "name": "stdout",
     "output_type": "stream",
     "text": [
      "Total % Detected: 69.8, FP Detected %: 16.1, TP Detected %: 87.5\n"
     ]
    }
   ],
   "source": [
    "# print percentage for total premises, fp and tp detected for stage 2\n",
    "print(\"Total % Detected: {}, FP Detected %: {}, TP Detected %: {}\".format(\n",
    "    total_detection_pr,fp_detection_pr,tp_detection_pr))"
   ]
  },
  {
   "cell_type": "code",
   "execution_count": null,
   "id": "eae5f1c9",
   "metadata": {},
   "outputs": [],
   "source": []
  }
 ],
 "metadata": {
  "kernelspec": {
   "display_name": "Python 3 (ipykernel)",
   "language": "python",
   "name": "python3"
  },
  "language_info": {
   "codemirror_mode": {
    "name": "ipython",
    "version": 3
   },
   "file_extension": ".py",
   "mimetype": "text/x-python",
   "name": "python",
   "nbconvert_exporter": "python",
   "pygments_lexer": "ipython3",
   "version": "3.9.15"
  }
 },
 "nbformat": 4,
 "nbformat_minor": 5
}
